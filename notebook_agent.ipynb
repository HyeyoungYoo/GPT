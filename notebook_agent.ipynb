{
 "cells": [
  {
   "cell_type": "code",
   "execution_count": 1,
   "metadata": {},
   "outputs": [
    {
     "name": "stdout",
     "output_type": "stream",
     "text": [
      "\n",
      "\n",
      "\u001b[1m> Entering new AgentExecutor chain...\u001b[0m\n",
      "\u001b[32;1m\u001b[1;3m\n",
      "Invoking: `StockMarketSymbolSearchTool` with `{'query': 'Cloudflare stock'}`\n",
      "\n",
      "\n",
      "\u001b[0m\u001b[36;1m\u001b[1;3mCloudflare (NET) is one of the stocks most watched by Zacks.com visitors lately. So, it might be a good idea to review some of the factors that might affect the near-term performance of the stock. Cloudflare Q2 Earnings Highlights: Revenue Beat, EPS Beat, Guidance Shines. Cloud connectivity company Cloudflare Inc NET reported second-quarter revenue of $401.0 million, up 30% year-over-year. The revenue beat a Street consensus estimate of $394.69 million, according to da... 5 weeks ago - Benzinga. Cloudflare's 'terrific' quarter lifts stock by 10%. MarketWatch Aug 2, 2024 12:38am. Cloudflare Announces Second Quarter 2024 Financial Results. Business Wire Aug 1, 2024 8:15pm. Cloudflare stock has performed well since my previous upgrade, outperforming the S&P 500 easily. Its global networking platform is fundamental to its edge computing growth thesis. Stock analysis for Cloudflare Inc (NET:New York) including stock price, stock chart, company news, key statistics, fundamentals and company profile.\u001b[0m\u001b[32;1m\u001b[1;3mCloudflare's stock symbol is NET. Here is some information on Cloudflare's stock:\n",
      "\n",
      "- Cloudflare reported second-quarter revenue of $401.0 million, up 30% year-over-year, beating the Street consensus estimate.\n",
      "- Cloudflare's stock has performed well and outperformed the S&P 500 easily.\n",
      "- Its global networking platform is fundamental to its edge computing growth thesis.\n",
      "\n",
      "To analyze if Cloudflare is a potential good investment, we can consider the following factors:\n",
      "1. Financial Performance: Review the company's revenue growth, profitability, and cash flow.\n",
      "2. Industry Trends: Evaluate the growth potential of the cloud computing and cybersecurity industry.\n",
      "3. Competitive Position: Assess Cloudflare's competitive advantage and market position.\n",
      "4. Future Outlook: Consider the company's growth prospects and potential risks.\n",
      "\n",
      "It's important to conduct further research and consult with a financial advisor before making any investment decisions.\u001b[0m\n",
      "\n",
      "\u001b[1m> Finished chain.\u001b[0m\n"
     ]
    },
    {
     "data": {
      "text/plain": [
       "{'input': \"Give me information on Cloudflare's stock and help me analyze if it's a potential good investment. Also tell me what symbol does the stock have.\",\n",
       " 'output': \"Cloudflare's stock symbol is NET. Here is some information on Cloudflare's stock:\\n\\n- Cloudflare reported second-quarter revenue of $401.0 million, up 30% year-over-year, beating the Street consensus estimate.\\n- Cloudflare's stock has performed well and outperformed the S&P 500 easily.\\n- Its global networking platform is fundamental to its edge computing growth thesis.\\n\\nTo analyze if Cloudflare is a potential good investment, we can consider the following factors:\\n1. Financial Performance: Review the company's revenue growth, profitability, and cash flow.\\n2. Industry Trends: Evaluate the growth potential of the cloud computing and cybersecurity industry.\\n3. Competitive Position: Assess Cloudflare's competitive advantage and market position.\\n4. Future Outlook: Consider the company's growth prospects and potential risks.\\n\\nIt's important to conduct further research and consult with a financial advisor before making any investment decisions.\"}"
      ]
     },
     "execution_count": 1,
     "metadata": {},
     "output_type": "execute_result"
    }
   ],
   "source": [
    "from langchain.chat_models import ChatOpenAI\n",
    "from langchain.tools import BaseTool\n",
    "from pydantic import BaseModel, Field\n",
    "from langchain.agents import initialize_agent, AgentType\n",
    "from langchain.utilities import DuckDuckGoSearchAPIWrapper\n",
    "from typing import Any, Type\n",
    "\n",
    "llm = ChatOpenAI(temperature=0.1)\n",
    "\n",
    "class StockMarketSymbolSearchToolArgsSchema(BaseModel):\n",
    "  query: str = Field(description=\"The query you will search for\")\n",
    "\n",
    "\n",
    "class StockMarketSymbolSearchTool(BaseTool):\n",
    "  name = \"StockMarketSymbolSearchTool\"\n",
    "  description = \"\"\"\n",
    "  Use this tool to find the stock market symbol for a company.\n",
    "  It takes a query as an argument.\n",
    "  Example query: Stock Marcket Symbol for Apple Company\n",
    "  \"\"\"\n",
    "\n",
    "  args_schema: Type[StockMarketSymbolSearchToolArgsSchema] = StockMarketSymbolSearchToolArgsSchema\n",
    "\n",
    "  def _run(self, query):\n",
    "    ddg = DuckDuckGoSearchAPIWrapper()\n",
    "    return ddg.run(query)\n",
    "\n",
    "agent = initialize_agent(\n",
    "    llm=llm,\n",
    "    verbose=True,\n",
    "    agent=AgentType.OPENAI_FUNCTIONS,\n",
    "    handle_parsing_errors=True,\n",
    "    tools=[StockMarketSymbolSearchTool()],\n",
    ")\n",
    "\n",
    "prompt = \"Give me information on Cloudflare's stock and help me analyze if it's a potential good investment. Also tell me what symbol does the stock have.\"\n",
    "\n",
    "agent.invoke(prompt)"
   ]
  }
 ],
 "metadata": {
  "kernelspec": {
   "display_name": "env",
   "language": "python",
   "name": "python3"
  },
  "language_info": {
   "codemirror_mode": {
    "name": "ipython",
    "version": 3
   },
   "file_extension": ".py",
   "mimetype": "text/x-python",
   "name": "python",
   "nbconvert_exporter": "python",
   "pygments_lexer": "ipython3",
   "version": "3.11.6"
  }
 },
 "nbformat": 4,
 "nbformat_minor": 2
}
