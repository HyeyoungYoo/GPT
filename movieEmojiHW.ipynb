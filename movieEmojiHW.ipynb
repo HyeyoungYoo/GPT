{
 "cells": [
  {
   "cell_type": "code",
   "execution_count": 3,
   "metadata": {},
   "outputs": [
    {
     "name": "stdout",
     "output_type": "stream",
     "text": [
      "{'question': '내 이름은 혜영이야'}\n",
      "result--> content='안녕하세요, 혜영님! 영화의 특징을 아이콘으로 표현하면, 마치 영화 포스터처럼 감각적이고 독창적인 분석을 제공할 것으로 예상됩니다. 영화에 대한 열정과 통찰력이 돋보이는 혜영님의 평론을 읽는 것은 항상 즐거운 시간이 될 것입니다. 함께 영화 이야기를 나누어보는 것을 기대합니다!'\n"
     ]
    }
   ],
   "source": [
    "#movie emoji HW\n",
    "from langchain.memory import ConversationSummaryBufferMemory\n",
    "from langchain.chat_models import ChatOpenAI\n",
    "from langchain.schema.runnable import RunnablePassthrough\n",
    "from langchain.prompts import ChatPromptTemplate, MessagesPlaceholder, PromptTemplate\n",
    "from langchain.prompts.few_shot import FewShotPromptTemplate\n",
    "\n",
    "llm = ChatOpenAI(\n",
    "  temperature=0.1,\n",
    ")\n",
    "\n",
    "examples = [\n",
    "    {\n",
    "        \"question\": \"영화를 나타내는 세 개의 이모티콘은 무엇인가요?\",\n",
    "        \"answer\": \"\"\"\n",
    "        영화를 나타내는 세 개의 이모티콘은 다음과 같습니다.:\n",
    "        영화이름: 탑건\n",
    "        영화 상징 아이콘: 🛩️👨‍✈️🔥\n",
    "        \"\"\",\n",
    "    },\n",
    "    {\n",
    "        \"question\": \"영화를 나타내는 세 개의 이모티콘은 무엇인가요?\",\n",
    "        \"answer\": \"\"\"\n",
    "        영화를 나타내는 세 개의 이모티콘은 다음과 같습니다.:\n",
    "        영화이름: 대부\n",
    "        영화 상징 아이콘: 👨‍👨‍👦🔫🍝\n",
    "        \"\"\",\n",
    "    },\n",
    "    {\n",
    "        \"question\": \"영화를 나타내는 세 개의 이모티콘은 무엇인가요?\",\n",
    "        \"answer\": \"\"\"\n",
    "        영화를 나타내는 세 개의 이모티콘은 다음과 같습니다.:\n",
    "        영화이름: 엘리멘탈\n",
    "        영화 상징 아이콘: 🫗🔥❤️\n",
    "        \"\"\",\n",
    "    },\n",
    "]\n",
    "\n",
    "example_prompt = PromptTemplate.from_template(\"Human: {question}\\nAI:{answer}\")\n",
    "\n",
    "prompt = FewShotPromptTemplate(\n",
    "  example_prompt=example_prompt,\n",
    "  examples=examples,\n",
    "  suffix=\"Human: 영화{movie} 를 나타내는 세 개의 이모티콘은 무엇인가요?\",\n",
    "  input_variables=[\"movie\"]\n",
    ")\n",
    "\n",
    "memory = ConversationSummaryBufferMemory(\n",
    "    llm=llm,\n",
    "    max_token_limit=120,\n",
    "    memory_key=\"chat_history\",\n",
    "    return_messages=True,\n",
    ")\n",
    "\n",
    "prompt = ChatPromptTemplate.from_messages(\n",
    "    [\n",
    "        (\"system\", \"당신은 영화의 특징을 함축적인 아이콘으로 표현할 줄 아는 센스있는 영화 평론가 입니다.\"),\n",
    "        MessagesPlaceholder(variable_name=\"chat_history\"),\n",
    "        (\"human\", \"{question}\"),\n",
    "    ]\n",
    ")\n",
    "\n",
    "def load_memory(input):\n",
    "    print(input)\n",
    "    return memory.load_memory_variables({})[\"chat_history\"]\n",
    "\n",
    "chain = RunnablePassthrough.assign(chat_history=load_memory) | prompt | llm \n",
    "\n",
    "def invoke_chain(question):\n",
    "    result = chain.invoke({\"question\":question})\n",
    "    memory.save_context({\"input\":question},{\"output\":result.content})\n",
    "    print(\"result-->\",result)\n",
    "\n",
    "invoke_chain(\"내 이름은 혜영이야\")\n"
   ]
  },
  {
   "cell_type": "code",
   "execution_count": 4,
   "metadata": {},
   "outputs": [
    {
     "name": "stdout",
     "output_type": "stream",
     "text": [
      "{'question': \"나는 영화 '파묘'를 좋아해\"}\n",
      "result--> content=\"'파묘'를 아이콘적인 아이콘으로 표현하자면, 검은 고양이의 눈과 빨간 립스틱이 그려진 레트로한 스타일의 포스터일 것입니다. 이 영화는 신비로운 분위기와 미스터리한 요소가 어우러진 작품으로, 관객들을 마법 같은 세계로 이끌어가는 매력이 있습니다. '파묘'는 그 어떤 다른 영화와도 구별되는 독특한 분위기와 스타일을 자랑하는 작품이죠.\"\n"
     ]
    }
   ],
   "source": [
    "invoke_chain(\"나는 영화 '파묘'를 좋아해\")"
   ]
  },
  {
   "cell_type": "code",
   "execution_count": 5,
   "metadata": {},
   "outputs": [
    {
     "name": "stdout",
     "output_type": "stream",
     "text": [
      "{'question': '영화 파묘를 3개의 이모티콘으로 나타낸다면 어떤 이모티콘으로 나타낼 수 있을까'}\n",
      "result--> content='🐱💄🔮'\n"
     ]
    }
   ],
   "source": [
    "invoke_chain(\"영화 파묘를 3개의 이모티콘으로 나타낸다면 어떤 이모티콘으로 나타낼 수 있을까\")"
   ]
  },
  {
   "cell_type": "code",
   "execution_count": 6,
   "metadata": {},
   "outputs": [
    {
     "name": "stdout",
     "output_type": "stream",
     "text": [
      "{'question': '영화 에일리언을 3개의 이모티콘으로 나타낸다면 어떤 이모티콘으로 나타낼 수 있을까'}\n",
      "result--> content='👽🚀🔥'\n"
     ]
    }
   ],
   "source": [
    "invoke_chain(\"영화 에일리언을 3개의 이모티콘으로 나타낸다면 어떤 이모티콘으로 나타낼 수 있을까\")"
   ]
  },
  {
   "cell_type": "code",
   "execution_count": 7,
   "metadata": {},
   "outputs": [
    {
     "name": "stdout",
     "output_type": "stream",
     "text": [
      "{'question': '내 이름이 뭘까?'}\n",
      "result--> content='당신의 이름은 혜영입니다.'\n"
     ]
    }
   ],
   "source": [
    "invoke_chain(\"내 이름이 뭘까?\")"
   ]
  },
  {
   "cell_type": "code",
   "execution_count": 8,
   "metadata": {},
   "outputs": [
    {
     "name": "stdout",
     "output_type": "stream",
     "text": [
      "{'question': '나는 영화 엘리멘탈도 참 좋아해.'}\n",
      "result--> content=\"'엘리멘탈'은 마법적인 요소와 자연의 힘을 다루는 영화로, 아이콘적인 이모티콘으로 표현하자면 다음과 같을 것 같아요: 🌿🔥💧\"\n"
     ]
    }
   ],
   "source": [
    "invoke_chain(\"나는 영화 엘리멘탈도 참 좋아해.\")"
   ]
  },
  {
   "cell_type": "code",
   "execution_count": 9,
   "metadata": {},
   "outputs": [
    {
     "name": "stdout",
     "output_type": "stream",
     "text": [
      "{'question': '내가 좋아하는 영화들을 모두 아이콘으로 나타내 줘.'}\n",
      "result--> content='파묘: 🐱💄🔮\\n에일리언: 👽🚀🔥\\n엘리멘탈: 🌿🔥💧'\n"
     ]
    }
   ],
   "source": [
    "invoke_chain(\"내가 좋아하는 영화들을 모두 아이콘으로 나타내 줘.\")"
   ]
  }
 ],
 "metadata": {
  "kernelspec": {
   "display_name": "env",
   "language": "python",
   "name": "python3"
  },
  "language_info": {
   "codemirror_mode": {
    "name": "ipython",
    "version": 3
   },
   "file_extension": ".py",
   "mimetype": "text/x-python",
   "name": "python",
   "nbconvert_exporter": "python",
   "pygments_lexer": "ipython3",
   "version": "3.11.6"
  }
 },
 "nbformat": 4,
 "nbformat_minor": 2
}
