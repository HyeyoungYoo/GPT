{
 "cells": [
  {
   "cell_type": "code",
   "execution_count": 6,
   "metadata": {},
   "outputs": [],
   "source": [
    "#8_26 숙제 \n",
    "#프로그래밍 언어에 대한 시를 쓰는 데 특화된 체인과 시를 설명하는 데 특화된 체인을 만드세요.\n",
    "#LCEL을 사용해 두 체인을 서로 연결합니다.\n",
    "#최종 체인은 프로그래밍 언어의 이름을 받고 시와 그 설명으로 응답해야 합니다.\n",
    "#모델로는 \"gpt-3.5-turbo\"를 사용하고 프롬프트에는 ChatPromptTemplate을 사용하세요.\n",
    "\n",
    "from langchain.chat_models import ChatOpenAI\n",
    "from langchain.prompts import PromptTemplate, ChatPromptTemplate\n",
    "from langchain.callbacks import StreamingStdOutCallbackHandler\n",
    "\n",
    "chat = ChatOpenAI(\n",
    "  temperature=0.1,\n",
    "  streaming=True,\n",
    "  callbacks=[StreamingStdOutCallbackHandler()]\n",
    ")\n",
    "\n",
    "poet_prompt = ChatPromptTemplate.from_messages([\n",
    "  (\"system\",\"you are a poet In particular, I have a deep understanding of programming languages, so I specialize in writing poetry about programming languages.\"),\n",
    "  (\"human\",\"Write a poem about {language}.\"),\n",
    "])\n",
    "\n",
    "poet_chain = poet_prompt | chat"
   ]
  },
  {
   "cell_type": "code",
   "execution_count": 7,
   "metadata": {},
   "outputs": [
    {
     "name": "stdout",
     "output_type": "stream",
     "text": [
      "In the land of code, where serpents slither,\n",
      "There lies a language, elegant and clever.\n",
      "Python, graceful in its syntax and style,\n",
      "Guiding programmers mile by mile.\n",
      "\n",
      "Indented blocks, like a dance so neat,\n",
      "Flowing logic, making tasks complete.\n",
      "With libraries vast, and modules grand,\n",
      "Python weaves a powerful hand.\n",
      "\n",
      "From data science to web design,\n",
      "Python's versatility will surely shine.\n",
      "A language beloved by many a coder,\n",
      "In its simplicity, we find order.\n",
      "\n",
      "So let us raise a toast to Python's grace,\n",
      "In the world of code, it holds a special place.\n",
      "A language so beloved, so pure and true,\n",
      "Python, we owe so much to you.This poem celebrates the programming language Python and its elegance, versatility, and simplicity. The poet uses vivid imagery to describe Python as graceful, guiding, and powerful. The references to Python's syntax, libraries, and applications in data science and web design highlight its wide range of uses and appeal to programmers. The poem concludes with a tribute to Python's importance in the world of coding and expresses gratitude for its contributions."
     ]
    },
    {
     "data": {
      "text/plain": [
       "AIMessageChunk(content=\"This poem celebrates the programming language Python and its elegance, versatility, and simplicity. The poet uses vivid imagery to describe Python as graceful, guiding, and powerful. The references to Python's syntax, libraries, and applications in data science and web design highlight its wide range of uses and appeal to programmers. The poem concludes with a tribute to Python's importance in the world of coding and expresses gratitude for its contributions.\")"
      ]
     },
     "execution_count": 7,
     "metadata": {},
     "output_type": "execute_result"
    }
   ],
   "source": [
    "commentor_prompt = ChatPromptTemplate.from_messages([\n",
    "  (\"system\",\"You are an excellent poetry commentator. You can interpret the literary meaning of each verse of poetry. If you don't know, don't force meaning, just say you don't know.\"),\n",
    "  (\"human\",\"{Poetry}\"),\n",
    "])\n",
    "\n",
    "commentor_chain = commentor_prompt | chat\n",
    "\n",
    "final_chain = {\"Poetry\": poet_chain} | commentor_chain\n",
    "\n",
    "final_chain.invoke({\n",
    "  \"language\":\"python\",\n",
    "})"
   ]
  }
 ],
 "metadata": {
  "kernelspec": {
   "display_name": "env",
   "language": "python",
   "name": "python3"
  },
  "language_info": {
   "codemirror_mode": {
    "name": "ipython",
    "version": 3
   },
   "file_extension": ".py",
   "mimetype": "text/x-python",
   "name": "python",
   "nbconvert_exporter": "python",
   "pygments_lexer": "ipython3",
   "version": "3.11.6"
  }
 },
 "nbformat": 4,
 "nbformat_minor": 2
}
